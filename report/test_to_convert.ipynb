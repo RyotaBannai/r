{
 "cells": [
  {
   "cell_type": "raw",
   "id": "fe13fb98",
   "metadata": {},
   "source": [
    "---\n",
    "title: \"My Notebook\"\n",
    "output: html_notebook\n",
    "---"
   ]
  },
  {
   "cell_type": "markdown",
   "id": "b4637586",
   "metadata": {},
   "source": [
    "This is markdown comment\n",
    "To render to Rmd format, Press Ctrl/ Cmd + Shift + K\n"
   ]
  },
  {
   "cell_type": "code",
   "execution_count": 1,
   "id": "c51b35cf",
   "metadata": {
    "lines_to_next_cell": 0
   },
   "outputs": [
    {
     "name": "stdout",
     "output_type": "stream",
     "text": [
      "hi"
     ]
    }
   ],
   "source": [
    "# This is R script!\n",
    "cat('hi')"
   ]
  },
  {
   "cell_type": "markdown",
   "id": "c8bc1284",
   "metadata": {},
   "source": []
  }
 ],
 "metadata": {
  "jupytext": {
   "cell_metadata_filter": "-all",
   "main_language": "R",
   "notebook_metadata_filter": "-all"
  },
  "kernelspec": {
   "display_name": "R",
   "language": "R",
   "name": "r"
  },
  "language_info": {
   "codemirror_mode": "r",
   "file_extension": ".r",
   "mimetype": "text/x-r-source",
   "name": "R",
   "pygments_lexer": "r",
   "version": "4.3.0"
  }
 },
 "nbformat": 4,
 "nbformat_minor": 5
}
