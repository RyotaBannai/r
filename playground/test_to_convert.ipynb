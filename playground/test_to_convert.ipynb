{
 "cells": [
  {
   "cell_type": "markdown",
   "id": "4992b662",
   "metadata": {},
   "source": [
    "This is markdown comment\n",
    "To render to Rmd format, Press Ctrl/ Cmd + Shift + K\n"
   ]
  },
  {
   "cell_type": "code",
   "execution_count": null,
   "id": "bbfceccd",
   "metadata": {
    "lines_to_next_cell": 0
   },
   "outputs": [],
   "source": [
    "# This is R script!\n",
    "print('hi')"
   ]
  },
  {
   "cell_type": "markdown",
   "id": "3b84d477",
   "metadata": {},
   "source": []
  }
 ],
 "metadata": {
  "jupytext": {
   "cell_metadata_filter": "-all",
   "main_language": "R",
   "notebook_metadata_filter": "-all"
  }
 },
 "nbformat": 4,
 "nbformat_minor": 5
}
