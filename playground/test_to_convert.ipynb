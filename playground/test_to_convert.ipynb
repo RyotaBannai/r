{
 "cells": [
  {
   "cell_type": "markdown",
   "id": "8dcc81d7",
   "metadata": {},
   "source": [
    "This is markdown comment\n",
    "To render to Rmd format, Press Ctrl/ Cmd + Shift + K"
   ]
  },
  {
   "cell_type": "code",
   "execution_count": 1,
   "id": "bbfceccd",
   "metadata": {
    "lines_to_next_cell": 0
   },
   "outputs": [
    {
     "name": "stdout",
     "output_type": "stream",
     "text": [
      "hi"
     ]
    }
   ],
   "source": [
    "# This is R script!\n",
    "cat('hi')"
   ]
  },
  {
   "cell_type": "markdown",
   "id": "3b84d477",
   "metadata": {},
   "source": []
  },
  {
   "cell_type": "code",
   "execution_count": null,
   "id": "5c026177",
   "metadata": {},
   "outputs": [],
   "source": []
  }
 ],
 "metadata": {
  "jupytext": {
   "cell_metadata_filter": "-all",
   "main_language": "R",
   "notebook_metadata_filter": "-all"
  },
  "kernelspec": {
   "display_name": "R",
   "language": "R",
   "name": "r"
  },
  "language_info": {
   "codemirror_mode": "r",
   "file_extension": ".r",
   "mimetype": "text/x-r-source",
   "name": "R",
   "pygments_lexer": "r",
   "version": "4.3.0"
  }
 },
 "nbformat": 4,
 "nbformat_minor": 5
}
